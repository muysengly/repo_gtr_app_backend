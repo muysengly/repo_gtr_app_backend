{
 "cells": [
  {
   "cell_type": "code",
   "execution_count": 10,
   "id": "ba16bbdc",
   "metadata": {},
   "outputs": [],
   "source": [
    "import sqlite3"
   ]
  },
  {
   "cell_type": "code",
   "execution_count": 11,
   "id": "53ed126e",
   "metadata": {},
   "outputs": [],
   "source": [
    "DB_NAME = \"database.sqlite\"\n",
    "\n",
    "connection = sqlite3.connect(f\"../../../{DB_NAME}\")\n",
    "cursor = connection.cursor()"
   ]
  },
  {
   "cell_type": "code",
   "execution_count": 12,
   "id": "2939b72a",
   "metadata": {},
   "outputs": [
    {
     "data": {
      "text/plain": [
       "[[7, 'admin123', 'admin123', '2025-09-10 01:27:24', None],\n",
       " [8, 'admin', 'admin', '2025-09-10 01:27:44', None],\n",
       " [9, 'admin11', 'admin11', '2025-09-10 01:36:03', None],\n",
       " [10, 'admin999', 'admin999', '2025-09-10 01:38:08', None],\n",
       " [11, '12345', '12345', '2025-09-10 01:42:38', None]]"
      ]
     },
     "execution_count": 12,
     "metadata": {},
     "output_type": "execute_result"
    }
   ],
   "source": [
    "\n",
    "sql_query_for_reading = \"SELECT * FROM table_credential;\"\n",
    "\n",
    "cursor.execute(sql_query_for_reading)\n",
    "\n",
    "results = cursor.fetchall()\n",
    "\n",
    "results = [list(row) for row in results]\n",
    "\n",
    "results\n"
   ]
  },
  {
   "cell_type": "code",
   "execution_count": null,
   "id": "61f4bc92",
   "metadata": {},
   "outputs": [],
   "source": [
    "import sqlite3\n",
    "\n",
    "\n",
    "def model(\n",
    "    DB_NAME: str = \"\",\n",
    "):\n",
    "\n",
    "    connection = sqlite3.connect(f\"{DB_NAME}\")\n",
    "    cursor = connection.cursor()\n",
    "\n",
    "    sql_query_for_reading = \"SELECT * FROM table_credential;\"\n",
    "\n",
    "    cursor.execute(sql_query_for_reading)\n",
    "\n",
    "    results = cursor.fetchall()\n",
    "\n",
    "    results = [list(row) for row in results]\n",
    "\n",
    "    connection.close()\n",
    "    return results"
   ]
  }
 ],
 "metadata": {
  "kernelspec": {
   "display_name": "Python 3",
   "language": "python",
   "name": "python3"
  },
  "language_info": {
   "codemirror_mode": {
    "name": "ipython",
    "version": 3
   },
   "file_extension": ".py",
   "mimetype": "text/x-python",
   "name": "python",
   "nbconvert_exporter": "python",
   "pygments_lexer": "ipython3",
   "version": "3.11.9"
  }
 },
 "nbformat": 4,
 "nbformat_minor": 5
}
