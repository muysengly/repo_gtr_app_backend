{
 "cells": [
  {
   "cell_type": "code",
   "execution_count": null,
   "id": "b577884c",
   "metadata": {},
   "outputs": [
    {
     "name": "stdout",
     "output_type": "stream",
     "text": [
      "c:\\Users\\muysengly\\Desktop\\repo_psa_app_backend\n"
     ]
    }
   ],
   "source": [
    "import os\n",
    "\n",
    "if not hasattr(os, \"_chdir\"):\n",
    "    os.chdir(\"..\")\n",
    "    os.chdir(\"..\")\n",
    "    os.chdir(\"..\")\n",
    "    os._chdir = True\n",
    "\n",
    "print(os.getcwd())"
   ]
  }
 ],
 "metadata": {
  "kernelspec": {
   "display_name": "Python 3",
   "language": "python",
   "name": "python3"
  },
  "language_info": {
   "codemirror_mode": {
    "name": "ipython",
    "version": 3
   },
   "file_extension": ".py",
   "mimetype": "text/x-python",
   "name": "python",
   "nbconvert_exporter": "python",
   "pygments_lexer": "ipython3",
   "version": "3.11.9"
  }
 },
 "nbformat": 4,
 "nbformat_minor": 5
}
