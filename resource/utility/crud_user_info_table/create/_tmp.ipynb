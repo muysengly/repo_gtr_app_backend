{
 "cells": [
  {
   "cell_type": "code",
   "execution_count": null,
   "id": "fcdf47e3",
   "metadata": {},
   "outputs": [],
   "source": [
    "import sqlite3\n",
    "import pandas as pd\n",
    "\n",
    "\n",
    "def model(\n",
    "    id_credential: int,\n",
    "    name: str,\n",
    "    email: str,\n",
    "    phone: str,\n",
    "    DB_NAME: str = \"database.sqlite\",\n",
    "):\n",
    "\n",
    "    connection = sqlite3.connect(f\"{DB_NAME}\")\n",
    "    table_name = \"table_user_info\"\n",
    "\n",
    "    df = pd.read_sql_query(f\"SELECT * FROM {table_name};\", connection)\n",
    "\n",
    "    columns = df.head().columns.tolist()\n",
    "    \n",
    "    insert_columns = columns[1:-2]\n",
    "    \n",
    "\n",
    "    sql_query_insert_data = f\"\"\"\n",
    "    INSERT INTO {table_name} (\n",
    "        {\", \".join(insert_columns)}\n",
    "    ) VALUES (\n",
    "        {\", \".join(['?'] * len(insert_columns))}\n",
    "    );\n",
    "    \"\"\"\n",
    "\n",
    "    connection.execute(sql_query_insert_data, (id_credential, name, email, phone))\n",
    "    connection.commit()\n",
    "    connection.close()\n",
    "\n",
    "    print(\"Inserted successfully\")"
   ]
  },
  {
   "cell_type": "code",
   "execution_count": null,
   "id": "ad839a16",
   "metadata": {},
   "outputs": [],
   "source": []
  },
  {
   "cell_type": "code",
   "execution_count": 24,
   "id": "ae96ae7b",
   "metadata": {},
   "outputs": [
    {
     "data": {
      "text/plain": [
       "['aaa', 'bbb', 'ccc', 'ddd']"
      ]
     },
     "execution_count": 24,
     "metadata": {},
     "output_type": "execute_result"
    }
   ],
   "source": [
    "a = [\"aaa\", \"bbb\", \"ccc\", \"ddd\"]\n",
    "a"
   ]
  },
  {
   "cell_type": "code",
   "execution_count": 25,
   "id": "f5189cd7",
   "metadata": {},
   "outputs": [
    {
     "data": {
      "text/plain": [
       "'aaa,bbb,ccc,ddd'"
      ]
     },
     "execution_count": 25,
     "metadata": {},
     "output_type": "execute_result"
    }
   ],
   "source": [
    "\",\".join(a)"
   ]
  },
  {
   "cell_type": "code",
   "execution_count": null,
   "id": "12eb5d18",
   "metadata": {},
   "outputs": [],
   "source": [
    "\n",
    "\n",
    "\n",
    "\n",
    "\n",
    "\n",
    "\n",
    "\n",
    "\n",
    "\n",
    "\n",
    "\n",
    "\n",
    "\n",
    "\n",
    "\n",
    "\n",
    "\n",
    "\n",
    "\n",
    "\n"
   ]
  },
  {
   "cell_type": "code",
   "execution_count": null,
   "id": "680fbce0",
   "metadata": {},
   "outputs": [],
   "source": []
  }
 ],
 "metadata": {
  "kernelspec": {
   "display_name": "Python 3",
   "language": "python",
   "name": "python3"
  },
  "language_info": {
   "codemirror_mode": {
    "name": "ipython",
    "version": 3
   },
   "file_extension": ".py",
   "mimetype": "text/x-python",
   "name": "python",
   "nbconvert_exporter": "python",
   "pygments_lexer": "ipython3",
   "version": "3.11.9"
  }
 },
 "nbformat": 4,
 "nbformat_minor": 5
}
