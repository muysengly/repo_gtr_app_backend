{
 "cells": [
  {
   "cell_type": "code",
   "execution_count": 31,
   "id": "fcdf47e3",
   "metadata": {},
   "outputs": [
    {
     "name": "stdout",
     "output_type": "stream",
     "text": [
      "Inserted successfully\n"
     ]
    }
   ],
   "source": [
    "import sqlite3\n",
    "import pandas as pd\n",
    "\n",
    "\n",
    "DB_NAME = \"../../../database.sqlite\"\n",
    "argkw = {\n",
    "    \"name\": \"yyy\",\n",
    "    \"email\": \"yyy\",\n",
    "}\n",
    "\n",
    "connection = sqlite3.connect(f\"{DB_NAME}\")\n",
    "table_name = \"table_user_info\"\n",
    "\n",
    "\n",
    "df = pd.read_sql_query(f\"SELECT * FROM {table_name};\", connection)\n",
    "\n",
    "columns = df.head().columns.tolist()\n",
    "\n",
    "\n",
    "insert_columns = columns[1:-2]\n",
    "\n",
    "\n",
    "keys = list(argkw.keys())\n",
    "\n",
    "values = [argkw[key] for key in keys]\n",
    "\n",
    "\n",
    "sql_query_insert_data = f\"\"\"\n",
    "INSERT INTO {table_name} (\n",
    "    {\", \".join(keys)}\n",
    ") VALUES (\n",
    "    {\", \".join(['?'] * len(keys))}\n",
    ");\n",
    "\"\"\"\n",
    "\n",
    "sql_query_insert_data\n",
    "\n",
    "connection.execute(sql_query_insert_data, (*values,))\n",
    "connection.commit()\n",
    "\n",
    "\n",
    "print(\"Inserted successfully\")\n",
    "connection.close()\n"
   ]
  },
  {
   "cell_type": "code",
   "execution_count": null,
   "id": "d9b9cb81",
   "metadata": {},
   "outputs": [],
   "source": []
  },
  {
   "cell_type": "code",
   "execution_count": null,
   "id": "db6afdbe",
   "metadata": {},
   "outputs": [],
   "source": [
    "import sqlite3\n",
    "\n",
    "\n",
    "\n",
    "def model(\n",
    "    argkw: dict,\n",
    "    DB_NAME: str = \"database.sqlite\",\n",
    "):\n",
    "\n",
    "    connection = sqlite3.connect(f\"{DB_NAME}\")\n",
    "    table_name = \"table_user_info\"\n",
    "\n",
    "\n",
    "    keys = list(argkw.keys())\n",
    "\n",
    "    values = [argkw[key] for key in keys]\n",
    "\n",
    "    sql_query_insert_data = f\"\"\"\n",
    "    INSERT INTO {table_name} (\n",
    "        {\", \".join(keys)}\n",
    "    ) VALUES (\n",
    "        {\", \".join(['?'] * len(keys))}\n",
    "    );\n",
    "    \"\"\"\n",
    "\n",
    "    sql_query_insert_data\n",
    "\n",
    "    connection.execute(sql_query_insert_data, (*values,))\n",
    "    connection.commit()\n",
    "\n",
    "    connection.close()\n",
    "    print(\"Inserted successfully\")\n",
    "\n",
    "\n",
    "\n",
    "\n",
    "\n",
    "\n"
   ]
  },
  {
   "cell_type": "code",
   "execution_count": null,
   "id": "c8ce51c1",
   "metadata": {},
   "outputs": [],
   "source": []
  }
 ],
 "metadata": {
  "kernelspec": {
   "display_name": "Python 3",
   "language": "python",
   "name": "python3"
  },
  "language_info": {
   "codemirror_mode": {
    "name": "ipython",
    "version": 3
   },
   "file_extension": ".py",
   "mimetype": "text/x-python",
   "name": "python",
   "nbconvert_exporter": "python",
   "pygments_lexer": "ipython3",
   "version": "3.11.9"
  }
 },
 "nbformat": 4,
 "nbformat_minor": 5
}
