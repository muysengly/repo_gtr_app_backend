{
 "cells": [
  {
   "cell_type": "code",
   "execution_count": 13,
   "id": "6c31fced",
   "metadata": {},
   "outputs": [],
   "source": [
    "import os\n",
    "import json\n",
    "\n",
    "\n",
    "if not hasattr(os, \"_cwd\"):\n",
    "    os._cwd = os.getcwd()\n",
    "\n",
    "with open(f\"{os._cwd}/model.ipynb\", \"r\", encoding=\"utf-8\") as nb_file:\n",
    "    nb = json.load(nb_file)\n",
    "\n",
    "with open(f\"{os._cwd}/model.py\", \"w\", encoding=\"utf-8\") as py_file:\n",
    "    for cell in nb[\"cells\"][1:]:\n",
    "        if cell[\"cell_type\"] == \"code\":\n",
    "            py_file.write(\"\".join(cell[\"source\"]) + \"\\n\\n\")"
   ]
  },
  {
   "cell_type": "markdown",
   "id": "cf1c0a20",
   "metadata": {},
   "source": [
    "---"
   ]
  },
  {
   "cell_type": "code",
   "execution_count": 14,
   "id": "543e843f",
   "metadata": {},
   "outputs": [
    {
     "name": "stdout",
     "output_type": "stream",
     "text": [
      "c:\\Users\\muysengly\\Desktop\\repo_psa_app_backend\n"
     ]
    }
   ],
   "source": [
    "if __name__ == \"__main__\":\n",
    "    import os\n",
    "\n",
    "    if not hasattr(os, \"_chdir\"):\n",
    "        os.chdir(\"..\")\n",
    "        os.chdir(\"..\")\n",
    "        os._chdir = True\n",
    "\n",
    "    print(os.getcwd())"
   ]
  },
  {
   "cell_type": "code",
   "execution_count": 15,
   "id": "b0074536",
   "metadata": {},
   "outputs": [],
   "source": [
    "import numpy as np"
   ]
  },
  {
   "cell_type": "code",
   "execution_count": 16,
   "id": "cd234cf3",
   "metadata": {},
   "outputs": [
    {
     "name": "stdout",
     "output_type": "stream",
     "text": [
      "Converted model.ipynb to model.py\n"
     ]
    }
   ],
   "source": [
    "print(\"Converted model.ipynb to model.py\")"
   ]
  },
  {
   "cell_type": "code",
   "execution_count": null,
   "id": "1699e57f",
   "metadata": {},
   "outputs": [],
   "source": []
  }
 ],
 "metadata": {
  "kernelspec": {
   "display_name": "Python 3",
   "language": "python",
   "name": "python3"
  },
  "language_info": {
   "codemirror_mode": {
    "name": "ipython",
    "version": 3
   },
   "file_extension": ".py",
   "mimetype": "text/x-python",
   "name": "python",
   "nbconvert_exporter": "python",
   "pygments_lexer": "ipython3",
   "version": "3.11.9"
  }
 },
 "nbformat": 4,
 "nbformat_minor": 5
}
